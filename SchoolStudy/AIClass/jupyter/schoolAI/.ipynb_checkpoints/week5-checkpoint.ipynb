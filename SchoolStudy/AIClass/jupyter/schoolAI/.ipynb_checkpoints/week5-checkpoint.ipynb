{
 "cells": [
  {
   "cell_type": "code",
   "execution_count": 26,
   "metadata": {},
   "outputs": [
    {
     "name": "stdout",
     "output_type": "stream",
     "text": [
      "도미의 무게:  [242.0, 290.0, 340.0, 363.0, 430.0, 450.0, 500.0, 390.0, 450.0, 500.0, 475.0, 500.0, 500.0, 340.0, 600.0, 600.0, 700.0, 700.0, 610.0, 650.0, 575.0, 685.0, 620.0, 680.0, 700.0, 725.0, 720.0, 714.0, 850.0, 1000.0, 920.0, 955.0, 925.0, 975.0, 950.0]\n",
      "도미의 길이:  [25.4, 26.3, 26.5, 29.0, 29.0, 29.7, 29.7, 30.0, 30.0, 30.7, 31.0, 31.0, 31.5, 32.0, 32.0, 32.0, 33.0, 33.0, 33.5, 33.5, 34.0, 34.0, 34.5, 35.0, 35.0, 35.0, 35.0, 36.0, 36.0, 37.0, 38.5, 38.5, 39.5, 41.0, 41.0]\n"
     ]
    }
   ],
   "source": [
    "import csv #불러오다\n",
    "\n",
    "f = open('Fish.csv', 'r')\n",
    "data = csv.reader(f) # 읽어들인것을 저장하는 함수  csv.reader(f)  2차원데이터 형식이고\n",
    "\n",
    "# next를 이용하면 처음에 나오는 header 만 건너뛸수 있다.\n",
    "header = next(data)  \n",
    "# print(header)\n",
    "\n",
    "bream_weight = []  # 도미 무게\n",
    "bream_length = []  # 도미 길이\n",
    "\n",
    "smelt_weight = []  # 빙어의 무게\n",
    "smelt_length = []  # 빙어의 길이\n",
    "\n",
    "# print(row)\n",
    "\n",
    "# for row in data:\n",
    "#     print(row)\n",
    "\n",
    "for row in data:\n",
    "    if row[0] == 'Bream':\n",
    "        bream_weight.append(float(row[1]))  # 덧붙이다, 첨부하다.\n",
    "        bream_length.append(float(row[3])) \n",
    "    if  row[0] == 'Smelt':\n",
    "        smelt_weight.append(float(row[1]))\n",
    "        smelt_length.append(float(row[3]))\n",
    "        \n",
    "    \n",
    "f.close()\n",
    "\n",
    "print('도미의 무게: ', bream_weight)\n",
    "print('도미의 길이: ', bream_length)\n",
    "\n",
    "# print('빙어의 무게: ', smelt_weight)\n",
    "# print('빙어의 길이: ', smelt_length)\n"
   ]
  },
  {
   "cell_type": "code",
   "execution_count": 27,
   "metadata": {},
   "outputs": [
    {
     "data": {
      "image/png": "[encoded data removed]",
      "text/plain": [
       "<Figure size 432x288 with 1 Axes>"
      ]
     },
     "metadata": {
      "needs_background": "light"
     },
     "output_type": "display_data"
    }
   ],
   "source": [
    "# mat(matlab)  plot(그래프)  lib(library)\n",
    "#    데이터를 그래프로 표현하는 라이브러리ㅏ\n",
    "# from matplotlib import pyplot  #아래와 같은 표현\n",
    "import matplotlib.pyplot\n",
    "import matplotlib.pyplot  as plt  # as == alias  앞에 import한 것을 이러하게 부르겠다\n",
    "\n",
    "# matplotlib.pyplot.plot() 둘이 같은 작동plt.plot()\n",
    "\n",
    "# 산점도\n",
    "# 산(흩뿌리다)점(점들)도(그리다) (scatter plot)\n",
    "plt.scatter(bream_length, bream_weight)    # x축 값, y축 값\n",
    "plt.xlabel('length [cm]') # x축 별명\n",
    "plt.ylabel('length [g]')  # y축 별명\n",
    "plt.grid(True)  # grid 그려줌  \n",
    "plt.show()\n"
   ]
  },
  {
   "cell_type": "code",
   "execution_count": 28,
   "metadata": {},
   "outputs": [
    {
     "data": {
      "image/png": "[encoded data removed]",
      "text/plain": [
       "<Figure size 432x288 with 1 Axes>"
      ]
     },
     "metadata": {
      "needs_background": "light"
     },
     "output_type": "display_data"
    }
   ],
   "source": [
    "plt.scatter(smelt_length, smelt_weight)    # x축 값, y축 값\n",
    "plt.xlabel('length [cm]') # x축 별명\n",
    "plt.ylabel('length [g]')  # y축 별명\n",
    "plt.grid(True)  # grid 그려줌  \n",
    "plt.show()\n"
   ]
  },
  {
   "cell_type": "code",
   "execution_count": 50,
   "metadata": {
    "scrolled": true
   },
   "outputs": [
    {
     "data": {
      "image/png": "[encoded data removed]",
      "text/plain": [
       "<Figure size 432x288 with 1 Axes>"
      ]
     },
     "metadata": {
      "needs_background": "light"
     },
     "output_type": "display_data"
    }
   ],
   "source": [
    "# MacOS --> AppleGothic \n",
    "\n",
    "plt.rc('font', family = 'Malgun Gothic')   # Windows 운영체제는 Malgun Gothic  폰트 지정  \n",
    "plt.scatter(bream_length, bream_weight, label = '도미')    # 도미\n",
    "plt.scatter(smelt_length, smelt_weight, label = '빙어')    # 빙어\n",
    "plt.xlabel('length [cm]') # x축 별명\n",
    "plt.ylabel('length [g]')  # y축 별명\n",
    "plt.title('도미와 빙어 데이터 분포')\n",
    "plt.legend()  # 레전드  -->  명사: 범례\n",
    "plt.grid(True)  # grid 그려줌  \n",
    "plt.show()"
   ]
  },
  {
   "cell_type": "code",
   "execution_count": 30,
   "metadata": {},
   "outputs": [
    {
     "name": "stdout",
     "output_type": "stream",
     "text": [
      "도미 마리 수: 35\n",
      "빙어 마리 수: 14\n",
      "생선 총 마리 수: 49\n",
      "길이 :  [25.4, 26.3, 26.5, 29.0, 29.0, 29.7, 29.7, 30.0, 30.0, 30.7, 31.0, 31.0, 31.5, 32.0, 32.0, 32.0, 33.0, 33.0, 33.5, 33.5, 34.0, 34.0, 34.5, 35.0, 35.0, 35.0, 35.0, 36.0, 36.0, 37.0, 38.5, 38.5, 39.5, 41.0, 41.0, 9.8, 10.5, 10.6, 11.0, 11.2, 11.3, 11.8, 11.8, 12.0, 12.2, 12.4, 13.0, 14.3, 15.0]\n",
      "무게 :  [242.0, 290.0, 340.0, 363.0, 430.0, 450.0, 500.0, 390.0, 450.0, 500.0, 475.0, 500.0, 500.0, 340.0, 600.0, 600.0, 700.0, 700.0, 610.0, 650.0, 575.0, 685.0, 620.0, 680.0, 700.0, 725.0, 720.0, 714.0, 850.0, 1000.0, 920.0, 955.0, 925.0, 975.0, 950.0, 6.7, 7.5, 7.0, 9.7, 9.8, 8.7, 10.0, 9.9, 9.8, 12.2, 13.4, 12.2, 19.7, 19.9]\n"
     ]
    }
   ],
   "source": [
    "print('도미 마리 수:',len(bream_length))\n",
    "print('빙어 마리 수:',len(smelt_length))\n",
    "\n",
    "length = bream_length + smelt_length\n",
    "weight = bream_weight + smelt_weight\n",
    "\n",
    "print('생선 총 마리 수:', len(length))\n",
    "print('길이 : ', length)  \n",
    "print('무게 : ', weight)"
   ]
  },
  {
   "cell_type": "code",
   "execution_count": 31,
   "metadata": {},
   "outputs": [
    {
     "name": "stdout",
     "output_type": "stream",
     "text": [
      "[[25.4, 242.0], [26.3, 290.0], [26.5, 340.0], [29.0, 363.0], [29.0, 430.0], [29.7, 450.0], [29.7, 500.0], [30.0, 390.0], [30.0, 450.0], [30.7, 500.0], [31.0, 475.0], [31.0, 500.0], [31.5, 500.0], [32.0, 340.0], [32.0, 600.0], [32.0, 600.0], [33.0, 700.0], [33.0, 700.0], [33.5, 610.0], [33.5, 650.0], [34.0, 575.0], [34.0, 685.0], [34.5, 620.0], [35.0, 680.0], [35.0, 700.0], [35.0, 725.0], [35.0, 720.0], [36.0, 714.0], [36.0, 850.0], [37.0, 1000.0], [38.5, 920.0], [38.5, 955.0], [39.5, 925.0], [41.0, 975.0], [41.0, 950.0], [9.8, 6.7], [10.5, 7.5], [10.6, 7.0], [11.0, 9.7], [11.2, 9.8], [11.3, 8.7], [11.8, 10.0], [11.8, 9.9], [12.0, 9.8], [12.2, 12.2], [12.4, 13.4], [13.0, 12.2], [14.3, 19.7], [15.0, 19.9]]\n"
     ]
    }
   ],
   "source": [
    "# zip() 함수 & 리스트 내포 (list comprehension)\n",
    "# zip() 함수: 입력되어진 리스트 각각에서 하나씩 원소를 꺼내 반환해 주는 함수 \n",
    "\n",
    "# 2차원 배열 만들기\n",
    "# length --> l    weight --> w\n",
    "# 리스트 안에 [l, w] 라는 리스트 를 만들껀데(리스트 안에 리스트) 그 l, w 의 값은\n",
    "# for 조건을 따라 넣는다.  그 조건은 zip() 함수를 이용해서 \n",
    "# 리스트 length와 weight 라는 리스트 안에 있는 값을 하나씩 꺼내준다.\n",
    "\n",
    "fish_data = [[l,w] for l , w in zip(length,weight)]\n",
    "\n",
    "\n",
    "\n",
    "print(fish_data)"
   ]
  },
  {
   "cell_type": "code",
   "execution_count": 32,
   "metadata": {},
   "outputs": [
    {
     "name": "stdout",
     "output_type": "stream",
     "text": [
      "49\n",
      "[1, 1, 1, 1, 1, 1, 1, 1, 1, 1, 1, 1, 1, 1, 1, 1, 1, 1, 1, 1, 1, 1, 1, 1, 1, 1, 1, 1, 1, 1, 1, 1, 1, 1, 1, 0, 0, 0, 0, 0, 0, 0, 0, 0, 0, 0, 0, 0, 0]\n"
     ]
    }
   ],
   "source": [
    "# Label  정보 준비하기 \n",
    "# 도미(Bream), 빙어(Smelt)\n",
    "# 도미 --> 1\n",
    "# 빙어 --> 0\n",
    "\n",
    "# fish_target = [1,1,1,1, ... 0,0,0,0,0,0 ....]  # 아래코드로 간략히 작성 가능\n",
    "\n",
    "fish_target = [1] * 35 + [0] * 14\n",
    "print(len(fish_target))\n",
    "print(fish_target)\n"
   ]
  },
  {
   "cell_type": "code",
   "execution_count": 33,
   "metadata": {},
   "outputs": [],
   "source": [
    "# scikit-learn  라이브러리\n",
    "# sklearn\n",
    "# k-NN (k-Nearest Neighbors Algorithm)\n",
    "from sklearn.neighbors import KNeighborsClassifier   # k-NN 알고리즘 클래스\n",
    "\n",
    "kn = KNeighborsClassifier()"
   ]
  },
  {
   "cell_type": "code",
   "execution_count": 34,
   "metadata": {},
   "outputs": [
    {
     "data": {
      "text/plain": [
       "KNeighborsClassifier()"
      ]
     },
     "execution_count": 34,
     "metadata": {},
     "output_type": "execute_result"
    }
   ],
   "source": [
    "# 모델을 학습 데이터 피팅 (Fitting) 시킨다\n",
    "# 지도 학습 (Supervised Learning)\n",
    "\n",
    "kn.fit(fish_data, fish_target)"
   ]
  },
  {
   "cell_type": "code",
   "execution_count": 35,
   "metadata": {},
   "outputs": [
    {
     "data": {
      "text/plain": [
       "1.0"
      ]
     },
     "execution_count": 35,
     "metadata": {},
     "output_type": "execute_result"
    }
   ],
   "source": [
    "# 평가 단계 --> 점수를 측정하는 단계 --> score\n",
    "# 학습, 검증, 시험 데이터셋 --> 학습 = 시험 데이터셋\n",
    "kn.score(fish_data, fish_target)\n",
    "\n",
    "# 0.0 ~ 1.0 사이의 값으로 출력함  (0.5  <--- 절반만 맞춤)\n",
    "# 정확도 (Accuracy) = 정확히 맞힌 개수 / 전체 데이터 개수  -->  49 / 49 = 1.0"
   ]
  },
  {
   "cell_type": "code",
   "execution_count": 47,
   "metadata": {},
   "outputs": [
    {
     "data": {
      "image/png": "[encoded data removed]",
      "text/plain": [
       "<Figure size 432x288 with 1 Axes>"
      ]
     },
     "metadata": {
      "needs_background": "light"
     },
     "output_type": "display_data"
    }
   ],
   "source": [
    "plt.scatter(bream_length, bream_weight, label = '도미', marker= '^', c='blue')  # 도마  삼각형 \n",
    "plt.scatter(smelt_length, smelt_weight, label = '빙어', marker= 'd', c= 'darkgreen')  # 빙어  Diamond  마커모양 \n",
    "plt.scatter(30,600, label = '새로운 데이터', marker = 's', c='gold')  # 정사각형 Square  \n",
    "plt.xlabel('length [cm]')\n",
    "plt.ylabel('weight [g]')\n",
    "plt.title('생선 데이터 분포')\n",
    "plt.legend()   # 범례\n",
    "plt.grid(True)\n",
    "plt.show()"
   ]
  },
  {
   "cell_type": "code",
   "execution_count": 37,
   "metadata": {},
   "outputs": [
    {
     "data": {
      "text/plain": [
       "array([1])"
      ]
     },
     "execution_count": 37,
     "metadata": {},
     "output_type": "execute_result"
    }
   ],
   "source": [
    "# 예측하다 --> predict\n",
    "# fit() 메서드 <-- 2차원 리스트 \n",
    "kn.predict([[30, 600]])\n",
    "\n",
    "# Label  정보 준비하기 \n",
    "# 도미(Bream), 빙어(Smelt)\n",
    "# 도미 --> 1\n",
    "# 빙어 --> 0\n"
   ]
  },
  {
   "cell_type": "code",
   "execution_count": 38,
   "metadata": {},
   "outputs": [
    {
     "name": "stdout",
     "output_type": "stream",
     "text": [
      "도미입니다.\n"
     ]
    }
   ],
   "source": [
    "ans = kn.predict([[30,600]])\n",
    "\n",
    "# ans?  # \n",
    "\n",
    "if ans == 1:\n",
    "    print('도미입니다.')\n",
    "elif ans == 0:\n",
    "    print('빙어입니다.')"
   ]
  },
  {
   "cell_type": "code",
   "execution_count": 39,
   "metadata": {},
   "outputs": [
    {
     "name": "stdout",
     "output_type": "stream",
     "text": [
      "[[  25.4  242. ]\n",
      " [  26.3  290. ]\n",
      " [  26.5  340. ]\n",
      " [  29.   363. ]\n",
      " [  29.   430. ]\n",
      " [  29.7  450. ]\n",
      " [  29.7  500. ]\n",
      " [  30.   390. ]\n",
      " [  30.   450. ]\n",
      " [  30.7  500. ]\n",
      " [  31.   475. ]\n",
      " [  31.   500. ]\n",
      " [  31.5  500. ]\n",
      " [  32.   340. ]\n",
      " [  32.   600. ]\n",
      " [  32.   600. ]\n",
      " [  33.   700. ]\n",
      " [  33.   700. ]\n",
      " [  33.5  610. ]\n",
      " [  33.5  650. ]\n",
      " [  34.   575. ]\n",
      " [  34.   685. ]\n",
      " [  34.5  620. ]\n",
      " [  35.   680. ]\n",
      " [  35.   700. ]\n",
      " [  35.   725. ]\n",
      " [  35.   720. ]\n",
      " [  36.   714. ]\n",
      " [  36.   850. ]\n",
      " [  37.  1000. ]\n",
      " [  38.5  920. ]\n",
      " [  38.5  955. ]\n",
      " [  39.5  925. ]\n",
      " [  41.   975. ]\n",
      " [  41.   950. ]\n",
      " [   9.8    6.7]\n",
      " [  10.5    7.5]\n",
      " [  10.6    7. ]\n",
      " [  11.     9.7]\n",
      " [  11.2    9.8]\n",
      " [  11.3    8.7]\n",
      " [  11.8   10. ]\n",
      " [  11.8    9.9]\n",
      " [  12.     9.8]\n",
      " [  12.2   12.2]\n",
      " [  12.4   13.4]\n",
      " [  13.    12.2]\n",
      " [  14.3   19.7]\n",
      " [  15.    19.9]]\n"
     ]
    }
   ],
   "source": [
    "print(kn._fit_X)"
   ]
  },
  {
   "cell_type": "code",
   "execution_count": 40,
   "metadata": {},
   "outputs": [
    {
     "name": "stdout",
     "output_type": "stream",
     "text": [
      "[1 1 1 1 1 1 1 1 1 1 1 1 1 1 1 1 1 1 1 1 1 1 1 1 1 1 1 1 1 1 1 1 1 1 1 0 0\n",
      " 0 0 0 0 0 0 0 0 0 0 0 0]\n",
      "49\n"
     ]
    }
   ],
   "source": [
    "print(kn._y)\n",
    "print(len(kn._y))"
   ]
  },
  {
   "cell_type": "code",
   "execution_count": 41,
   "metadata": {},
   "outputs": [],
   "source": [
    "kn49 = KNeighborsClassifier(n_neighbors=49)  # 가장 가까운 49개의 데이터를 참고해서 Lable 값을 예측 # 기본 값은 5다.\n"
   ]
  },
  {
   "cell_type": "code",
   "execution_count": 42,
   "metadata": {},
   "outputs": [
    {
     "data": {
      "text/plain": [
       "KNeighborsClassifier(n_neighbors=49)"
      ]
     },
     "execution_count": 42,
     "metadata": {},
     "output_type": "execute_result"
    }
   ],
   "source": [
    "kn49.fit(fish_data, fish_target)"
   ]
  },
  {
   "cell_type": "code",
   "execution_count": 43,
   "metadata": {},
   "outputs": [
    {
     "data": {
      "text/plain": [
       "0.7142857142857143"
      ]
     },
     "execution_count": 43,
     "metadata": {},
     "output_type": "execute_result"
    }
   ],
   "source": [
    "kn49.score(fish_data, fish_target)"
   ]
  },
  {
   "cell_type": "code",
   "execution_count": 44,
   "metadata": {},
   "outputs": [
    {
     "name": "stdout",
     "output_type": "stream",
     "text": [
      "0.7142857142857143\n"
     ]
    }
   ],
   "source": [
    "print(35/49)"
   ]
  },
  {
   "cell_type": "code",
   "execution_count": 45,
   "metadata": {},
   "outputs": [
    {
     "name": "stdout",
     "output_type": "stream",
     "text": [
      "18 0.9795918367346939\n"
     ]
    }
   ],
   "source": [
    "kn = KNeighborsClassifier()\n",
    "kn.fit(fish_data, fish_target)\n",
    "\n",
    "for k in range(5, 50):  #5 이상 50미만\n",
    "    kn.n_neighbors = k\n",
    "    \n",
    "    score = kn.score(fish_data, fish_target)\n",
    "    if score < 1:   # 정확도가 1(100%)에 미치지 못한다면 이웃 개수 출력 \n",
    "        print(k, score)\n",
    "        break"
   ]
  },
  {
   "cell_type": "code",
   "execution_count": null,
   "metadata": {},
   "outputs": [],
   "source": []
  },
  {
   "cell_type": "code",
   "execution_count": null,
   "metadata": {},
   "outputs": [],
   "source": []
  },
  {
   "cell_type": "code",
   "execution_count": null,
   "metadata": {},
   "outputs": [],
   "source": []
  },
  {
   "cell_type": "code",
   "execution_count": null,
   "metadata": {},
   "outputs": [],
   "source": []
  },
  {
   "cell_type": "code",
   "execution_count": null,
   "metadata": {},
   "outputs": [],
   "source": []
  },
  {
   "cell_type": "code",
   "execution_count": null,
   "metadata": {},
   "outputs": [],
   "source": [
    "\n"
   ]
  }
 ],
 "metadata": {
  "kernelspec": {
   "display_name": "Python 3",
   "language": "python",
   "name": "python3"
  },
  "language_info": {
   "codemirror_mode": {
    "name": "ipython",
    "version": 3
   },
   "file_extension": ".py",
   "mimetype": "text/x-python",
   "name": "python",
   "nbconvert_exporter": "python",
   "pygments_lexer": "ipython3",
   "version": "3.8.5"
  }
 },
 "nbformat": 4,
 "nbformat_minor": 4
}
