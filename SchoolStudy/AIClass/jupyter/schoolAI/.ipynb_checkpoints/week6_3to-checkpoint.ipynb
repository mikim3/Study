{
 "cells": [
  {
   "cell_type": "code",
   "execution_count": 88,
   "metadata": {},
   "outputs": [
    {
     "name": "stdout",
     "output_type": "stream",
     "text": [
      "fish_weight = [242.0, 290.0, 340.0, 363.0, 430.0, 450.0, 500.0, 390.0, 450.0, 500.0, 475.0, 500.0, 500.0, 340.0, 600.0, 600.0, 700.0, 700.0, 610.0, 650.0, 575.0, 685.0, 620.0, 680.0, 700.0, 725.0, 720.0, 714.0, 850.0, 1000.0, 920.0, 955.0, 925.0, 975.0, 950.0, 6.7, 7.5, 7.0, 9.7, 9.8, 8.7, 10.0, 9.9, 9.8, 12.2, 13.4, 12.2, 19.7, 19.9]\n",
      "fish_length = [25.4, 26.3, 26.5, 29.0, 29.0, 29.7, 29.7, 30.0, 30.0, 30.7, 31.0, 31.0, 31.5, 32.0, 32.0, 32.0, 33.0, 33.0, 33.5, 33.5, 34.0, 34.0, 34.5, 35.0, 35.0, 35.0, 35.0, 36.0, 36.0, 37.0, 38.5, 38.5, 39.5, 41.0, 41.0, 9.8, 10.5, 10.6, 11.0, 11.2, 11.3, 11.8, 11.8, 12.0, 12.2, 12.4, 13.0, 14.3, 15.0]\n"
     ]
    }
   ],
   "source": [
    "import csv\n",
    "\n",
    "f = open('Fish.csv', 'r')\n",
    "data = csv.reader(f)\n",
    "\n",
    "header = next(data)\n",
    "# print(header)\n",
    "# from sklearn.neighbors  import KNeighborsClassifier \n",
    "\n",
    "# 도미\n",
    "bream_weight = []\n",
    "bream_length = []\n",
    "\n",
    "# 빙어\n",
    "smelt_weight = []\n",
    "smelt_length = []\n",
    "\n",
    "for row in data:\n",
    "    if row[0] == 'Bream':\n",
    "        bream_weight.append(float(row[1]))\n",
    "        bream_length.append(float(row[3]))\n",
    "    if row[0] == 'Smelt':\n",
    "        bream_weight.append(float(row[1]))\n",
    "        bream_length.append(float(row[3]))\n",
    "    \n",
    "f.close()\n",
    "# print(bream_weight)\n",
    "\n",
    "fish_weight = bream_weight + smelt_weight\n",
    "fish_length = bream_length + smelt_length\n",
    "\n",
    "# 데이터들을 사이킷런의 라이브러리에 넣어주기 위해서는 2차원 데이터 형태로 만들어줘야 한다.\n",
    "print('fish_weight =', fish_weight)\n",
    "print('fish_length =', fish_length)"
   ]
  },
  {
   "cell_type": "code",
   "execution_count": 89,
   "metadata": {},
   "outputs": [
    {
     "name": "stdout",
     "output_type": "stream",
     "text": [
      "[[ 25.4 242. ]\n",
      " [ 26.3 290. ]\n",
      " [ 26.5 340. ]\n",
      " [ 29.  363. ]\n",
      " [ 29.  430. ]]\n"
     ]
    }
   ],
   "source": [
    "import numpy as np\n",
    "\n",
    "# fish_data = [[l, w] for l,w in zip(fish_length, fish_weight)]  # 리스트 컴프리헨션으로 구현\n",
    "fish_data = np.column_stack((fish_length, fish_weight))  # 튜플 형태로 값을 넘겨주고 있습니다.  # 넘파이 라이브러리로 좀더 쉽게 구현\n",
    "# numpy.column_stack((배열1,배열2)) # 배열1의 n번째 값과 배열2의 n번째 값이 쌍을이룬 2차원배열을 return   (열방향으로 합침)\n",
    "\n",
    "print(fish_data[:5])"
   ]
  },
  {
   "cell_type": "code",
   "execution_count": 90,
   "metadata": {},
   "outputs": [
    {
     "name": "stdout",
     "output_type": "stream",
     "text": [
      "[1. 1. 1. 1. 1. 1. 1. 1. 1. 1. 1. 1. 1. 1. 1. 1. 1. 1. 1. 1. 1. 1. 1. 1.\n",
      " 1. 1. 1. 1. 1. 1. 1. 1. 1. 1. 1.]\n",
      "[0. 0. 0. 0. 0. 0. 0. 0. 0. 0. 0. 0. 0. 0.]\n",
      "[1. 1. 1. 1. 1. 1. 1. 1. 1. 1. 1. 1. 1. 1. 1. 1. 1. 1. 1. 1. 1. 1. 1. 1.\n",
      " 1. 1. 1. 1. 1. 1. 1. 1. 1. 1. 1. 0. 0. 0. 0. 0. 0. 0. 0. 0. 0. 0. 0. 0.\n",
      " 0.]\n"
     ]
    }
   ],
   "source": [
    "# fish_target = [1] * 35 + [0] *14\n",
    "print(np.ones(35))  # 1을 반복하는 배열을 리턴하는 함수\n",
    "print(np.zeros(14))  # \n",
    "\n",
    "fish_target = np.concatenate((np.ones(35), np.zeros(14)))   # np.concatenate()   행방향(대충가로)으로 합침\n",
    "print(fish_target)"
   ]
  },
  {
   "cell_type": "code",
   "execution_count": 91,
   "metadata": {},
   "outputs": [
    {
     "name": "stdout",
     "output_type": "stream",
     "text": [
      "[[  30.   450. ]\n",
      " [  29.   363. ]\n",
      " [  29.7  500. ]\n",
      " [  11.3    8.7]\n",
      " [  11.8   10. ]\n",
      " [  13.    12.2]\n",
      " [  32.   600. ]\n",
      " [  30.7  500. ]\n",
      " [  33.   700. ]\n",
      " [  35.   700. ]\n",
      " [  41.   975. ]\n",
      " [  38.5  920. ]\n",
      " [  25.4  242. ]\n",
      " [  12.     9.8]\n",
      " [  39.5  925. ]\n",
      " [  29.7  450. ]\n",
      " [  37.  1000. ]\n",
      " [  31.   500. ]\n",
      " [  10.5    7.5]\n",
      " [  26.3  290. ]\n",
      " [  34.   685. ]\n",
      " [  26.5  340. ]\n",
      " [  10.6    7. ]\n",
      " [   9.8    6.7]\n",
      " [  35.   680. ]\n",
      " [  11.2    9.8]\n",
      " [  31.   475. ]\n",
      " [  34.5  620. ]\n",
      " [  33.5  610. ]\n",
      " [  15.    19.9]\n",
      " [  34.   575. ]\n",
      " [  30.   390. ]\n",
      " [  11.8    9.9]\n",
      " [  32.   600. ]\n",
      " [  36.   850. ]\n",
      " [  11.     9.7]]\n",
      "[1. 0. 0. 0. 1. 1. 1. 1. 1. 1. 1. 1. 1.]\n"
     ]
    }
   ],
   "source": [
    "# 전달되는 리스트나 배열을 비율에 맞게 학습 데이터셋을 나누어 주는 함수\n",
    "from sklearn.model_selection import train_test_split\n",
    "\n",
    "train_input, test_input, train_target, test_target = train_test_split(fish_data, fish_target, random_state= 42)  \n",
    "# train_input, test_input= train_test_split(fish_data, random_state= 42)  \n",
    "# train_target, test_target = train_test_split(fish_target, random_state= 42) \n",
    "\n",
    "print(train_input)\n",
    "print(test_target)\n",
    "\n",
    "\n",
    "# fish_data가 train_input, test_input으로 쪼개지고 fish_target이 train_target,test_target으로 쪼개진다."
   ]
  },
  {
   "cell_type": "code",
   "execution_count": 92,
   "metadata": {},
   "outputs": [
    {
     "name": "stdout",
     "output_type": "stream",
     "text": [
      "(36, 2) (13, 2)\n"
     ]
    }
   ],
   "source": [
    "print(train_input.shape, test_input.shape)  # shape, 모양, 형태(2차원이상 일때 숫자 1차원은 빈킨 ) "
   ]
  },
  {
   "cell_type": "code",
   "execution_count": 93,
   "metadata": {},
   "outputs": [
    {
     "name": "stdout",
     "output_type": "stream",
     "text": [
      "[1. 1. 1. 0. 0. 0. 1. 1. 1. 1. 1. 1. 1. 0. 1. 1. 1. 1. 0. 1. 1. 1. 0. 0.\n",
      " 1. 0. 1. 1. 1. 0. 1. 1. 0. 1. 1. 0.]\n",
      "(36,) (13,)\n"
     ]
    }
   ],
   "source": [
    "print(train_target)\n",
    "print(train_target.shape, test_target.shape)"
   ]
  },
  {
   "cell_type": "code",
   "execution_count": 94,
   "metadata": {},
   "outputs": [
    {
     "name": "stdout",
     "output_type": "stream",
     "text": [
      "[1. 0. 0. 0. 1. 1. 1. 1. 1. 1. 1. 1. 1.]\n"
     ]
    }
   ],
   "source": [
    "print(test_target)  # 10:3   --> 3.3:1"
   ]
  },
  {
   "cell_type": "code",
   "execution_count": 95,
   "metadata": {},
   "outputs": [],
   "source": [
    "train_input, test_input, train_target, test_target = train_test_split(fish_data, fish_target, random_state= 42, stratify= fish_target)  "
   ]
  },
  {
   "cell_type": "code",
   "execution_count": 96,
   "metadata": {},
   "outputs": [
    {
     "name": "stdout",
     "output_type": "stream",
     "text": [
      "[0. 0. 1. 0. 1. 0. 1. 1. 1. 1. 1. 1. 1.]\n"
     ]
    }
   ],
   "source": [
    "print(test_target)  # 9:4  ---> 2.25:1  -->(원본 비율)35:14  = 5:2   -> 2.5:1\n"
   ]
  },
  {
   "cell_type": "code",
   "execution_count": 97,
   "metadata": {},
   "outputs": [
    {
     "data": {
      "text/plain": [
       "1.0"
      ]
     },
     "execution_count": 97,
     "metadata": {},
     "output_type": "execute_result"
    }
   ],
   "source": [
    "from sklearn.neighbors import KNeighborsClassifier\n",
    "\n",
    "kn = KNeighborsClassifier()\n",
    "kn.fit(train_input, train_target)\n",
    "kn.score(test_input, test_target)  "
   ]
  },
  {
   "cell_type": "code",
   "execution_count": 98,
   "metadata": {},
   "outputs": [
    {
     "data": {
      "image/png": "[encoded data removed]",
      "text/plain": [
       "<Figure size 432x288 with 1 Axes>"
      ]
     },
     "metadata": {
      "needs_background": "light"
     },
     "output_type": "display_data"
    }
   ],
   "source": [
    "import matplotlib.pyplot as plt\n",
    "\n",
    "\n",
    "plt.scatter(train_input[:,0], train_input[:,1])\n",
    "plt.scatter(25, 150, marker = '^')\n",
    "plt.xlabel('Length [cm]')\n",
    "plt.ylabel('Weight [g]')\n",
    "plt.grid(True)\n",
    "plt.show()"
   ]
  },
  {
   "cell_type": "code",
   "execution_count": 99,
   "metadata": {},
   "outputs": [
    {
     "data": {
      "text/plain": [
       "array([0.])"
      ]
     },
     "execution_count": 99,
     "metadata": {},
     "output_type": "execute_result"
    }
   ],
   "source": [
    "kn.predict([[25, 150]])   # kn.predict(2차원 배열만 받음 )\n",
    "# 1: 도미, 0: 빙어"
   ]
  },
  {
   "cell_type": "code",
   "execution_count": 100,
   "metadata": {},
   "outputs": [
    {
     "name": "stdout",
     "output_type": "stream",
     "text": [
      "[[ 92.00086956 130.48375378 130.73859415 138.32150953 138.39320793]]\n",
      "[[21 33 19 30  1]]\n"
     ]
    }
   ],
   "source": [
    "distances, indexes = kn.kneighbors([[25, 150]])  # 가장 가까운 5개의 인덱스값 보기\n",
    "print(distances)\n",
    "print(indexes)"
   ]
  },
  {
   "cell_type": "code",
   "execution_count": 101,
   "metadata": {},
   "outputs": [
    {
     "data": {
      "image/png": "[encoded data removed]",
      "text/plain": [
       "<Figure size 432x288 with 1 Axes>"
      ]
     },
     "metadata": {
      "needs_background": "light"
     },
     "output_type": "display_data"
    }
   ],
   "source": [
    "plt.scatter(train_input[:,0], train_input[:,1])\n",
    "plt.scatter(25, 150, marker = '^')\n",
    "plt.scatter(train_input[indexes,0],train_input[indexes,1], marker = 'D')  #배열 인덱싱 DIamond\n",
    "\n",
    "plt.xlabel('Length [cm]')\n",
    "plt.ylabel('Weight [g]')\n",
    "plt.grid(True)\n",
    "plt.show()"
   ]
  },
  {
   "cell_type": "code",
   "execution_count": 102,
   "metadata": {},
   "outputs": [
    {
     "name": "stdout",
     "output_type": "stream",
     "text": [
      "[[[ 25.4 242. ]\n",
      "  [ 15.   19.9]\n",
      "  [ 14.3  19.7]\n",
      "  [ 13.   12.2]\n",
      "  [ 12.2  12.2]]]\n"
     ]
    }
   ],
   "source": [
    "print(train_input[indexes, :])  "
   ]
  },
  {
   "cell_type": "code",
   "execution_count": 103,
   "metadata": {},
   "outputs": [
    {
     "name": "stdout",
     "output_type": "stream",
     "text": [
      "[[1. 0. 0. 0. 0.]]\n"
     ]
    }
   ],
   "source": [
    "print(train_target[indexes])  # 빙어4 도미 1   다수결로 빙어가 당선"
   ]
  },
  {
   "cell_type": "code",
   "execution_count": 104,
   "metadata": {},
   "outputs": [
    {
     "name": "stdout",
     "output_type": "stream",
     "text": [
      "[[ 92.00086956 130.48375378 130.73859415 138.32150953 138.39320793]]\n"
     ]
    }
   ],
   "source": [
    "print(distances)    "
   ]
  },
  {
   "cell_type": "code",
   "execution_count": 105,
   "metadata": {},
   "outputs": [
    {
     "data": {
      "image/png": "[encoded data removed]",
      "text/plain": [
       "<Figure size 432x288 with 1 Axes>"
      ]
     },
     "metadata": {
      "needs_background": "light"
     },
     "output_type": "display_data"
    }
   ],
   "source": [
    "plt.scatter(train_input[:,0], train_input[:,1])\n",
    "plt.scatter(25, 150, marker = '^')\n",
    "plt.scatter(train_input[indexes,0],train_input[indexes,1], marker = 'D')  #배열 인덱싱 DIamond\n",
    "plt.xlim([0, 1000])   # x limits\n",
    "plt.xlabel('Length [cm]')\n",
    "plt.ylabel('Weight [g]')\n",
    "plt.grid(True)\n",
    "plt.show()"
   ]
  },
  {
   "cell_type": "code",
   "execution_count": 106,
   "metadata": {},
   "outputs": [
    {
     "name": "stdout",
     "output_type": "stream",
     "text": [
      "[[ 29.7 500. ]\n",
      " [ 12.2  12.2]\n",
      " [ 33.  700. ]\n",
      " [ 11.3   8.7]\n",
      " [ 39.5 925. ]]\n",
      "(36, 2)\n"
     ]
    }
   ],
   "source": [
    "print(train_input[:5])\n",
    "print(train_input.shape)"
   ]
  },
  {
   "cell_type": "code",
   "execution_count": 107,
   "metadata": {},
   "outputs": [
    {
     "name": "stdout",
     "output_type": "stream",
     "text": [
      "[ 27.29722222 454.09722222] [  9.98244253 323.29893931]\n"
     ]
    }
   ],
   "source": [
    "mean = np.mean(train_input, axis = 0)   # axis = 0 이면 아래쪽으로 평균을 계산한다.\n",
    "std = np.std(train_input, axis = 0)   # standard deviation(편차)  --> std  표준편차\n",
    "\n",
    "print(mean, std)"
   ]
  },
  {
   "cell_type": "code",
   "execution_count": 108,
   "metadata": {},
   "outputs": [
    {
     "name": "stdout",
     "output_type": "stream",
     "text": [
      "[264.85  12.2  366.5   10.   482.25 229.5  375.   443.   253.   377.5\n",
      " 518.5   10.5  327.25  10.9  196.   366.5  265.35 496.75 341.75  17.\n",
      " 265.75 133.7    8.25 316.     9.   321.75   8.8  367.5  316.   380.\n",
      "  12.6  240.   186.    17.45 210.   508.  ]\n",
      "(36,)\n"
     ]
    }
   ],
   "source": [
    "A = np.mean(train_input , axis = 1)\n",
    "print(A)\n",
    "print(A.shape)"
   ]
  },
  {
   "cell_type": "code",
   "execution_count": 109,
   "metadata": {},
   "outputs": [
    {
     "name": "stdout",
     "output_type": "stream",
     "text": [
      "[[ 0.24070039  0.14198246]\n",
      " [-1.51237757 -1.36683783]\n",
      " [ 0.5712808   0.76060496]\n",
      " [-1.60253587 -1.37766373]\n",
      " [ 1.22242404  1.45655528]]\n"
     ]
    }
   ],
   "source": [
    "train_scaled = (train_input - mean) / std # Z-score  표준점수     #  브로드캐스팅을 이용하여 간단히 배열각각에 계산 가능\n",
    "\n",
    "print(train_scaled[:5])"
   ]
  },
  {
   "cell_type": "code",
   "execution_count": 110,
   "metadata": {},
   "outputs": [],
   "source": [
    "# 유니 캐스팅    1  ----> 1\n",
    "# 브로드 캐스팅  1  ----> N(모든사람)\n",
    "# 멀티 캐스팅    1  ----> S(특정사람에게만)"
   ]
  },
  {
   "cell_type": "code",
   "execution_count": 111,
   "metadata": {},
   "outputs": [
    {
     "data": {
      "image/png": "[encoded data removed]",
      "text/plain": [
       "<Figure size 432x288 with 1 Axes>"
      ]
     },
     "metadata": {
      "needs_background": "light"
     },
     "output_type": "display_data"
    }
   ],
   "source": [
    "plt.scatter(train_scaled[:,0], train_scaled[:,1])\n",
    "plt.scatter(25, 150, marker = '^')  # 이 데이터는 Z-score 즉 표준점수로 만들지 않았음\n",
    "plt.xlabel('Length [cm]')\n",
    "plt.ylabel('Weight [g]')\n",
    "plt.grid(True)\n",
    "plt.show()"
   ]
  },
  {
   "cell_type": "code",
   "execution_count": 112,
   "metadata": {},
   "outputs": [
    {
     "data": {
      "image/png": "[encoded data removed]",
      "text/plain": [
       "<Figure size 432x288 with 1 Axes>"
      ]
     },
     "metadata": {
      "needs_background": "light"
     },
     "output_type": "display_data"
    }
   ],
   "source": [
    "new   = ([25, 150] - mean) / std\n",
    "\n",
    "plt.scatter(train_scaled[:,0], train_scaled[:,1])\n",
    "plt.scatter(new[0], new[1], marker = '^')  \n",
    "plt.xlabel('Length [cm]')\n",
    "plt.ylabel('Weight [g]')\n",
    "plt.grid(True)\n",
    "plt.show()"
   ]
  },
  {
   "cell_type": "code",
   "execution_count": 113,
   "metadata": {
    "scrolled": false
   },
   "outputs": [
    {
     "name": "stdout",
     "output_type": "stream",
     "text": [
      "target [0. 0. 1. 0. 1. 0. 1. 1. 1. 1. 1. 1. 1.]\n"
     ]
    },
    {
     "data": {
      "text/plain": [
       "1.0"
      ]
     },
     "execution_count": 113,
     "metadata": {},
     "output_type": "execute_result"
    }
   ],
   "source": [
    "kn.fit(train_scaled, train_target)       # 모델을 학습 데이터셋에 피팅 (fitting) 시킨다.\n",
    "test_scaled = (test_input -mean)  /  std\n",
    "# print(test_scaled.shape)\n",
    "print('target', test_target)\n",
    "kn.score(test_scaled, test_target)    # 정확도 계산"
   ]
  },
  {
   "cell_type": "code",
   "execution_count": 114,
   "metadata": {},
   "outputs": [
    {
     "data": {
      "text/plain": [
       "array([1.])"
      ]
     },
     "execution_count": 114,
     "metadata": {},
     "output_type": "execute_result"
    }
   ],
   "source": [
    "kn.predict([new])  #  표준점수 고려해주니까 이번에는 1로 변함\n",
    "# 1: 도미 ,  0: 빙어"
   ]
  },
  {
   "cell_type": "code",
   "execution_count": 118,
   "metadata": {},
   "outputs": [],
   "source": [
    "distances, indexes  = kn.kneighbors([new])\n"
   ]
  },
  {
   "cell_type": "code",
   "execution_count": 119,
   "metadata": {
    "scrolled": true
   },
   "outputs": [
    {
     "data": {
      "image/png": "[encoded data removed]",
      "text/plain": [
       "<Figure size 432x288 with 1 Axes>"
      ]
     },
     "metadata": {
      "needs_background": "light"
     },
     "output_type": "display_data"
    }
   ],
   "source": [
    "# 도미들이 가까운걸로 측정됨\n",
    "plt.scatter(train_scaled[:,0], train_scaled[:,1])\n",
    "plt.scatter(new[0], new[1], marker = '^')  \n",
    "plt.scatter(train_scaled[indexes, 0], train_scaled[indexes,1], marker='D')  # MARKER= diamond\n",
    "plt.xlabel('Length [cm]')\n",
    "plt.ylabel('Weight [g]')\n",
    "plt.grid(True)\n",
    "plt.show()"
   ]
  },
  {
   "cell_type": "code",
   "execution_count": null,
   "metadata": {},
   "outputs": [],
   "source": []
  },
  {
   "cell_type": "code",
   "execution_count": null,
   "metadata": {},
   "outputs": [],
   "source": []
  },
  {
   "cell_type": "code",
   "execution_count": null,
   "metadata": {},
   "outputs": [],
   "source": []
  },
  {
   "cell_type": "code",
   "execution_count": null,
   "metadata": {},
   "outputs": [],
   "source": []
  }
 ],
 "metadata": {
  "kernelspec": {
   "display_name": "Python 3",
   "language": "python",
   "name": "python3"
  },
  "language_info": {
   "codemirror_mode": {
    "name": "ipython",
    "version": 3
   },
   "file_extension": ".py",
   "mimetype": "text/x-python",
   "name": "python",
   "nbconvert_exporter": "python",
   "pygments_lexer": "ipython3",
   "version": "3.8.5"
  }
 },
 "nbformat": 4,
 "nbformat_minor": 4
}
