{
 "cells": [
  {
   "cell_type": "code",
   "execution_count": 1,
   "metadata": {
    "scrolled": true
   },
   "outputs": [
    {
     "data": {
      "text/html": [
       "<div>\n",
       "<style scoped>\n",
       "    .dataframe tbody tr th:only-of-type {\n",
       "        vertical-align: middle;\n",
       "    }\n",
       "\n",
       "    .dataframe tbody tr th {\n",
       "        vertical-align: top;\n",
       "    }\n",
       "\n",
       "    .dataframe thead th {\n",
       "        text-align: right;\n",
       "    }\n",
       "</style>\n",
       "<table border=\"1\" class=\"dataframe\">\n",
       "  <thead>\n",
       "    <tr style=\"text-align: right;\">\n",
       "      <th></th>\n",
       "      <th>Species</th>\n",
       "      <th>Weight</th>\n",
       "      <th>Length</th>\n",
       "    </tr>\n",
       "  </thead>\n",
       "  <tbody>\n",
       "    <tr>\n",
       "      <th>0</th>\n",
       "      <td>Bream</td>\n",
       "      <td>242.0</td>\n",
       "      <td>25.4</td>\n",
       "    </tr>\n",
       "    <tr>\n",
       "      <th>1</th>\n",
       "      <td>Bream</td>\n",
       "      <td>290.0</td>\n",
       "      <td>26.3</td>\n",
       "    </tr>\n",
       "    <tr>\n",
       "      <th>2</th>\n",
       "      <td>Bream</td>\n",
       "      <td>340.0</td>\n",
       "      <td>79.5</td>\n",
       "    </tr>\n",
       "    <tr>\n",
       "      <th>3</th>\n",
       "      <td>Bream</td>\n",
       "      <td>363.0</td>\n",
       "      <td>29.0</td>\n",
       "    </tr>\n",
       "    <tr>\n",
       "      <th>4</th>\n",
       "      <td>Bream</td>\n",
       "      <td>430.0</td>\n",
       "      <td>29.0</td>\n",
       "    </tr>\n",
       "    <tr>\n",
       "      <th>...</th>\n",
       "      <td>...</td>\n",
       "      <td>...</td>\n",
       "      <td>...</td>\n",
       "    </tr>\n",
       "    <tr>\n",
       "      <th>86</th>\n",
       "      <td>Perch</td>\n",
       "      <td>1100.0</td>\n",
       "      <td>42.0</td>\n",
       "    </tr>\n",
       "    <tr>\n",
       "      <th>87</th>\n",
       "      <td>Perch</td>\n",
       "      <td>70000.0</td>\n",
       "      <td>43.0</td>\n",
       "    </tr>\n",
       "    <tr>\n",
       "      <th>88</th>\n",
       "      <td>Perch</td>\n",
       "      <td>1100.0</td>\n",
       "      <td>43.0</td>\n",
       "    </tr>\n",
       "    <tr>\n",
       "      <th>89</th>\n",
       "      <td>Perch</td>\n",
       "      <td>1000.0</td>\n",
       "      <td>43.5</td>\n",
       "    </tr>\n",
       "    <tr>\n",
       "      <th>90</th>\n",
       "      <td>Perch</td>\n",
       "      <td>1000.0</td>\n",
       "      <td>44.0</td>\n",
       "    </tr>\n",
       "  </tbody>\n",
       "</table>\n",
       "<p>91 rows × 3 columns</p>\n",
       "</div>"
      ],
      "text/plain": [
       "   Species   Weight  Length\n",
       "0    Bream    242.0    25.4\n",
       "1    Bream    290.0    26.3\n",
       "2    Bream    340.0    79.5\n",
       "3    Bream    363.0    29.0\n",
       "4    Bream    430.0    29.0\n",
       "..     ...      ...     ...\n",
       "86   Perch   1100.0    42.0\n",
       "87   Perch  70000.0    43.0\n",
       "88   Perch   1100.0    43.0\n",
       "89   Perch   1000.0    43.5\n",
       "90   Perch   1000.0    44.0\n",
       "\n",
       "[91 rows x 3 columns]"
      ]
     },
     "execution_count": 1,
     "metadata": {},
     "output_type": "execute_result"
    }
   ],
   "source": [
    "# Fish_outlier.csv\n",
    "\n",
    "import pandas as pd\n",
    "\n",
    "fish = pd.read_csv('Fish_outlier.csv')\n",
    "\n",
    "fish"
   ]
  },
  {
   "cell_type": "code",
   "execution_count": 2,
   "metadata": {},
   "outputs": [
    {
     "name": "stdout",
     "output_type": "stream",
     "text": [
      "<class 'pandas.core.frame.DataFrame'>\n",
      "RangeIndex: 91 entries, 0 to 90\n",
      "Data columns (total 3 columns):\n",
      " #   Column   Non-Null Count  Dtype  \n",
      "---  ------   --------------  -----  \n",
      " 0   Species  91 non-null     object \n",
      " 1   Weight   91 non-null     float64\n",
      " 2   Length   91 non-null     float64\n",
      "dtypes: float64(2), object(1)\n",
      "memory usage: 2.3+ KB\n"
     ]
    }
   ],
   "source": [
    "fish.info()"
   ]
  },
  {
   "cell_type": "code",
   "execution_count": 3,
   "metadata": {},
   "outputs": [
    {
     "data": {
      "text/html": [
       "<div>\n",
       "<style scoped>\n",
       "    .dataframe tbody tr th:only-of-type {\n",
       "        vertical-align: middle;\n",
       "    }\n",
       "\n",
       "    .dataframe tbody tr th {\n",
       "        vertical-align: top;\n",
       "    }\n",
       "\n",
       "    .dataframe thead th {\n",
       "        text-align: right;\n",
       "    }\n",
       "</style>\n",
       "<table border=\"1\" class=\"dataframe\">\n",
       "  <thead>\n",
       "    <tr style=\"text-align: right;\">\n",
       "      <th></th>\n",
       "      <th>Weight</th>\n",
       "      <th>Length</th>\n",
       "    </tr>\n",
       "  </thead>\n",
       "  <tbody>\n",
       "    <tr>\n",
       "      <th>count</th>\n",
       "      <td>91.000000</td>\n",
       "      <td>91.000000</td>\n",
       "    </tr>\n",
       "    <tr>\n",
       "      <th>mean</th>\n",
       "      <td>3845.509890</td>\n",
       "      <td>35.217582</td>\n",
       "    </tr>\n",
       "    <tr>\n",
       "      <th>std</th>\n",
       "      <td>12961.519362</td>\n",
       "      <td>20.493449</td>\n",
       "    </tr>\n",
       "    <tr>\n",
       "      <th>min</th>\n",
       "      <td>5.900000</td>\n",
       "      <td>8.400000</td>\n",
       "    </tr>\n",
       "    <tr>\n",
       "      <th>25%</th>\n",
       "      <td>160.000000</td>\n",
       "      <td>24.000000</td>\n",
       "    </tr>\n",
       "    <tr>\n",
       "      <th>50%</th>\n",
       "      <td>500.000000</td>\n",
       "      <td>31.500000</td>\n",
       "    </tr>\n",
       "    <tr>\n",
       "      <th>75%</th>\n",
       "      <td>820.000000</td>\n",
       "      <td>37.000000</td>\n",
       "    </tr>\n",
       "    <tr>\n",
       "      <th>max</th>\n",
       "      <td>70000.000000</td>\n",
       "      <td>123.000000</td>\n",
       "    </tr>\n",
       "  </tbody>\n",
       "</table>\n",
       "</div>"
      ],
      "text/plain": [
       "             Weight      Length\n",
       "count     91.000000   91.000000\n",
       "mean    3845.509890   35.217582\n",
       "std    12961.519362   20.493449\n",
       "min        5.900000    8.400000\n",
       "25%      160.000000   24.000000\n",
       "50%      500.000000   31.500000\n",
       "75%      820.000000   37.000000\n",
       "max    70000.000000  123.000000"
      ]
     },
     "execution_count": 3,
     "metadata": {},
     "output_type": "execute_result"
    }
   ],
   "source": [
    "fish.describe()"
   ]
  },
  {
   "cell_type": "code",
   "execution_count": 4,
   "metadata": {},
   "outputs": [
    {
     "data": {
      "text/plain": [
       "Perch    56\n",
       "Bream    35\n",
       "Name: Species, dtype: int64"
      ]
     },
     "execution_count": 4,
     "metadata": {},
     "output_type": "execute_result"
    }
   ],
   "source": [
    "fish['Species'].value_counts()"
   ]
  },
  {
   "cell_type": "code",
   "execution_count": 5,
   "metadata": {},
   "outputs": [
    {
     "data": {
      "image/png": "[encoded data removed]",
      "text/plain": [
       "<Figure size 432x288 with 1 Axes>"
      ]
     },
     "metadata": {
      "needs_background": "light"
     },
     "output_type": "display_data"
    }
   ],
   "source": [
    "# 특성 2개 --> x, y 축으로 둬서 산점도 (Scatter plot)\n",
    "import matplotlib.pyplot as plt\n",
    "\n",
    "# Perch   :   농어\n",
    "# Bream   :   도미\n",
    "\n",
    "plt.figure() # 도화지\n",
    "plt.scatter(fish['Weight'][fish['Species']=='Perch'],fish['Length'][fish['Species']=='Perch'],label='Perch')\n",
    "plt.scatter(fish['Weight'][fish['Species']=='Bream'],fish['Length'][fish['Species']=='Bream'],label='Bream')\n",
    "plt.xlabel('Weight')\n",
    "plt.ylabel('Length')\n",
    "plt.legend() # 범례\n",
    "plt.grid(True)\n",
    "plt.show()"
   ]
  },
  {
   "cell_type": "code",
   "execution_count": 6,
   "metadata": {},
   "outputs": [
    {
     "data": {
      "text/html": [
       "<div>\n",
       "<style scoped>\n",
       "    .dataframe tbody tr th:only-of-type {\n",
       "        vertical-align: middle;\n",
       "    }\n",
       "\n",
       "    .dataframe tbody tr th {\n",
       "        vertical-align: top;\n",
       "    }\n",
       "\n",
       "    .dataframe thead th {\n",
       "        text-align: right;\n",
       "    }\n",
       "</style>\n",
       "<table border=\"1\" class=\"dataframe\">\n",
       "  <thead>\n",
       "    <tr style=\"text-align: right;\">\n",
       "      <th></th>\n",
       "      <th>Species</th>\n",
       "      <th>Weight</th>\n",
       "      <th>Length</th>\n",
       "    </tr>\n",
       "  </thead>\n",
       "  <tbody>\n",
       "    <tr>\n",
       "      <th>0</th>\n",
       "      <td>Bream</td>\n",
       "      <td>242.0</td>\n",
       "      <td>25.4</td>\n",
       "    </tr>\n",
       "    <tr>\n",
       "      <th>1</th>\n",
       "      <td>Bream</td>\n",
       "      <td>290.0</td>\n",
       "      <td>26.3</td>\n",
       "    </tr>\n",
       "    <tr>\n",
       "      <th>2</th>\n",
       "      <td>Bream</td>\n",
       "      <td>340.0</td>\n",
       "      <td>79.5</td>\n",
       "    </tr>\n",
       "    <tr>\n",
       "      <th>3</th>\n",
       "      <td>Bream</td>\n",
       "      <td>363.0</td>\n",
       "      <td>29.0</td>\n",
       "    </tr>\n",
       "    <tr>\n",
       "      <th>4</th>\n",
       "      <td>Bream</td>\n",
       "      <td>430.0</td>\n",
       "      <td>29.0</td>\n",
       "    </tr>\n",
       "    <tr>\n",
       "      <th>...</th>\n",
       "      <td>...</td>\n",
       "      <td>...</td>\n",
       "      <td>...</td>\n",
       "    </tr>\n",
       "    <tr>\n",
       "      <th>86</th>\n",
       "      <td>Perch</td>\n",
       "      <td>1100.0</td>\n",
       "      <td>42.0</td>\n",
       "    </tr>\n",
       "    <tr>\n",
       "      <th>87</th>\n",
       "      <td>Perch</td>\n",
       "      <td>70000.0</td>\n",
       "      <td>43.0</td>\n",
       "    </tr>\n",
       "    <tr>\n",
       "      <th>88</th>\n",
       "      <td>Perch</td>\n",
       "      <td>1100.0</td>\n",
       "      <td>43.0</td>\n",
       "    </tr>\n",
       "    <tr>\n",
       "      <th>89</th>\n",
       "      <td>Perch</td>\n",
       "      <td>1000.0</td>\n",
       "      <td>43.5</td>\n",
       "    </tr>\n",
       "    <tr>\n",
       "      <th>90</th>\n",
       "      <td>Perch</td>\n",
       "      <td>1000.0</td>\n",
       "      <td>44.0</td>\n",
       "    </tr>\n",
       "  </tbody>\n",
       "</table>\n",
       "<p>91 rows × 3 columns</p>\n",
       "</div>"
      ],
      "text/plain": [
       "   Species   Weight  Length\n",
       "0    Bream    242.0    25.4\n",
       "1    Bream    290.0    26.3\n",
       "2    Bream    340.0    79.5\n",
       "3    Bream    363.0    29.0\n",
       "4    Bream    430.0    29.0\n",
       "..     ...      ...     ...\n",
       "86   Perch   1100.0    42.0\n",
       "87   Perch  70000.0    43.0\n",
       "88   Perch   1100.0    43.0\n",
       "89   Perch   1000.0    43.5\n",
       "90   Perch   1000.0    44.0\n",
       "\n",
       "[91 rows x 3 columns]"
      ]
     },
     "execution_count": 6,
     "metadata": {},
     "output_type": "execute_result"
    }
   ],
   "source": [
    "fish "
   ]
  },
  {
   "cell_type": "code",
   "execution_count": 22,
   "metadata": {},
   "outputs": [
    {
     "name": "stdout",
     "output_type": "stream",
     "text": [
      "(91, 2)\n",
      "(91,)\n",
      "['Bream' 'Bream' 'Bream' 'Bream' 'Bream' 'Bream' 'Bream' 'Bream' 'Bream'\n",
      " 'Bream' 'Bream' 'Bream' 'Bream' 'Bream' 'Bream' 'Bream' 'Bream' 'Bream'\n",
      " 'Bream' 'Bream' 'Bream' 'Bream' 'Bream' 'Bream' 'Bream' 'Bream' 'Bream'\n",
      " 'Bream' 'Bream' 'Bream' 'Bream' 'Bream' 'Bream' 'Bream' 'Bream' 'Perch'\n",
      " 'Perch' 'Perch' 'Perch' 'Perch' 'Perch' 'Perch' 'Perch' 'Perch' 'Perch'\n",
      " 'Perch' 'Perch' 'Perch' 'Perch' 'Perch' 'Perch' 'Perch' 'Perch' 'Perch'\n",
      " 'Perch' 'Perch' 'Perch' 'Perch' 'Perch' 'Perch' 'Perch' 'Perch' 'Perch'\n",
      " 'Perch' 'Perch' 'Perch' 'Perch' 'Perch' 'Perch' 'Perch' 'Perch' 'Perch'\n",
      " 'Perch' 'Perch' 'Perch' 'Perch' 'Perch' 'Perch' 'Perch' 'Perch' 'Perch'\n",
      " 'Perch' 'Perch' 'Perch' 'Perch' 'Perch' 'Perch' 'Perch' 'Perch' 'Perch'\n",
      " 'Perch']\n",
      "[[2.420e+02 2.540e+01]\n",
      " [2.900e+02 2.630e+01]\n",
      " [3.400e+02 7.950e+01]\n",
      " [3.630e+02 2.900e+01]\n",
      " [4.300e+02 2.900e+01]\n",
      " [4.500e+02 2.970e+01]\n",
      " [5.000e+02 2.970e+01]\n",
      " [3.900e+02 3.000e+01]\n",
      " [3.150e+04 3.000e+01]\n",
      " [5.000e+02 3.070e+01]\n",
      " [4.750e+02 3.100e+01]\n",
      " [5.000e+02 3.100e+01]\n",
      " [5.000e+02 3.150e+01]\n",
      " [3.400e+02 3.200e+01]\n",
      " [6.000e+02 3.200e+01]\n",
      " [6.000e+02 3.200e+01]\n",
      " [7.000e+02 3.300e+01]\n",
      " [7.000e+02 9.900e+01]\n",
      " [6.100e+02 3.350e+01]\n",
      " [6.500e+02 3.350e+01]\n",
      " [4.025e+04 3.400e+01]\n",
      " [6.850e+02 3.400e+01]\n",
      " [6.200e+02 3.450e+01]\n",
      " [6.800e+02 3.500e+01]\n",
      " [7.000e+02 3.500e+01]\n",
      " [7.250e+02 3.500e+01]\n",
      " [7.200e+02 3.500e+01]\n",
      " [7.140e+02 3.600e+01]\n",
      " [8.500e+02 3.600e+01]\n",
      " [1.000e+03 3.700e+01]\n",
      " [6.440e+04 3.850e+01]\n",
      " [9.550e+02 3.850e+01]\n",
      " [6.475e+04 1.185e+02]\n",
      " [9.750e+02 4.100e+01]\n",
      " [9.500e+02 1.230e+02]\n",
      " [5.900e+00 8.400e+00]\n",
      " [3.200e+01 1.370e+01]\n",
      " [4.000e+01 4.500e+01]\n",
      " [5.150e+01 1.620e+01]\n",
      " [7.000e+01 1.740e+01]\n",
      " [1.000e+02 1.800e+01]\n",
      " [7.800e+01 1.870e+01]\n",
      " [8.000e+01 1.900e+01]\n",
      " [8.500e+01 1.960e+01]\n",
      " [8.500e+01 2.000e+01]\n",
      " [1.100e+02 2.100e+01]\n",
      " [1.150e+02 2.100e+01]\n",
      " [1.250e+02 2.100e+01]\n",
      " [9.100e+03 2.130e+01]\n",
      " [1.200e+02 6.600e+01]\n",
      " [1.200e+02 2.200e+01]\n",
      " [1.300e+02 2.200e+01]\n",
      " [1.350e+02 2.200e+01]\n",
      " [1.100e+02 2.200e+01]\n",
      " [1.300e+02 2.250e+01]\n",
      " [1.500e+02 2.250e+01]\n",
      " [1.450e+02 2.270e+01]\n",
      " [1.500e+02 2.300e+01]\n",
      " [1.700e+02 2.350e+01]\n",
      " [2.250e+02 2.400e+01]\n",
      " [1.450e+02 2.400e+01]\n",
      " [1.316e+04 2.460e+01]\n",
      " [1.800e+02 7.500e+01]\n",
      " [1.970e+02 2.560e+01]\n",
      " [2.180e+02 2.650e+01]\n",
      " [3.000e+02 2.730e+01]\n",
      " [1.820e+04 2.750e+01]\n",
      " [2.650e+02 2.750e+01]\n",
      " [2.500e+02 2.750e+01]\n",
      " [2.500e+02 2.800e+01]\n",
      " [3.000e+02 2.870e+01]\n",
      " [3.200e+02 3.000e+01]\n",
      " [5.140e+02 3.280e+01]\n",
      " [5.560e+02 3.450e+01]\n",
      " [8.400e+02 3.500e+01]\n",
      " [6.850e+02 3.650e+01]\n",
      " [7.000e+02 3.600e+01]\n",
      " [7.000e+02 3.700e+01]\n",
      " [6.900e+02 3.700e+01]\n",
      " [9.000e+02 3.900e+01]\n",
      " [6.500e+02 3.900e+01]\n",
      " [8.200e+02 3.900e+01]\n",
      " [8.500e+02 1.200e+02]\n",
      " [9.000e+02 4.000e+01]\n",
      " [1.015e+03 4.000e+01]\n",
      " [8.200e+02 4.000e+01]\n",
      " [1.100e+03 4.200e+01]\n",
      " [7.000e+04 4.300e+01]\n",
      " [1.100e+03 4.300e+01]\n",
      " [1.000e+03 4.350e+01]\n",
      " [1.000e+03 4.400e+01]]\n"
     ]
    }
   ],
   "source": [
    "data = fish[['Weight','Length']].to_numpy()\n",
    "target = fish['Species'].to_numpy()\n",
    "\n",
    "print(data.shape)\n",
    "print(target.shape)\n"
   ]
  },
  {
   "cell_type": "code",
   "execution_count": 8,
   "metadata": {},
   "outputs": [
    {
     "name": "stdout",
     "output_type": "stream",
     "text": [
      "(68, 2)\n",
      "(23, 2)\n"
     ]
    }
   ],
   "source": [
    "from sklearn.model_selection import train_test_split\n",
    "\n",
    "# stratify   target에 존재하는 물고기의 비율을 보고 학습데이터 셋을 편향없이 쪼갠다.\n",
    "train_input, test_input, train_target, test_target = train_test_split(data, target, random_state=42,\n",
    "                                                                     stratify=target)\n",
    "\n",
    "print(train_input.shape)\n",
    "print(test_input.shape)"
   ]
  },
  {
   "cell_type": "code",
   "execution_count": 9,
   "metadata": {},
   "outputs": [
    {
     "name": "stdout",
     "output_type": "stream",
     "text": [
      "이상치 포함된 상태에서 모델의 분류 정확도\n",
      "학습 데이터셋: 0.7941176470588235\n",
      "시험 데이터셋: 0.7391304347826086\n"
     ]
    }
   ],
   "source": [
    "from sklearn.tree import DecisionTreeClassifier\n",
    "\n",
    "# Decision Tree\n",
    "dt = DecisionTreeClassifier(max_depth=2)\n",
    "\n",
    "dt.fit(train_input, train_target)\n",
    "\n",
    "print('이상치 포함된 상태에서 모델의 분류 정확도')\n",
    "print('학습 데이터셋:', dt.score(train_input, train_target))\n",
    "print('시험 데이터셋:', dt.score(test_input, test_target))"
   ]
  },
  {
   "cell_type": "code",
   "execution_count": 10,
   "metadata": {},
   "outputs": [
    {
     "data": {
      "image/png": "[encoded data removed]",
      "text/plain": [
       "<Figure size 432x288 with 1 Axes>"
      ]
     },
     "metadata": {
      "needs_background": "light"
     },
     "output_type": "display_data"
    }
   ],
   "source": [
    "# IQR (= Inter-Quartile Range) = Q3 (3사분위수) - Q1 (1사분위수)\n",
    "\n",
    "# 상자 그림 (Boxplot): 최대값, 최소값, 상위 1/4, 2/4, 3/4\n",
    "plt.figure()\n",
    "plt.boxplot(fish['Weight'], labels=['Weight'])\n",
    "plt.grid(True)\n",
    "plt.show()\n"
   ]
  },
  {
   "cell_type": "code",
   "execution_count": 11,
   "metadata": {},
   "outputs": [
    {
     "name": "stdout",
     "output_type": "stream",
     "text": [
      "[  8.4  13.7  16.2  17.4  18.   18.7  19.   19.6  20.   21.   21.   21.\n",
      "  21.3  22.   22.   22.   22.   22.5  22.5  22.7  23.   23.5  24.   24.\n",
      "  24.6  25.4  25.6  26.3  26.5  27.3  27.5  27.5  27.5  28.   28.7  29.\n",
      "  29.   29.7  29.7  30.   30.   30.   30.7  31.   31.   31.5  32.   32.\n",
      "  32.   32.8  33.   33.5  33.5  34.   34.   34.5  34.5  35.   35.   35.\n",
      "  35.   35.   36.   36.   36.   36.5  37.   37.   37.   38.5  38.5  39.\n",
      "  39.   39.   40.   40.   40.   41.   42.   43.   43.   43.5  44.   45.\n",
      "  66.   75.   79.5  99.  118.5 120.  123. ]\n",
      "최소: 8.4\n",
      "1사분위(Q1): 24.0\n",
      "2사분위(Q2): 31.5\n",
      "3사분위(Q3): 37.0\n",
      "최대: 123.0\n"
     ]
    },
    {
     "data": {
      "image/png": "[encoded data removed]",
      "text/plain": [
       "<Figure size 432x288 with 1 Axes>"
      ]
     },
     "metadata": {
      "needs_background": "light"
     },
     "output_type": "display_data"
    }
   ],
   "source": [
    "import numpy as np\n",
    "\n",
    "fish_len = fish['Length'].to_numpy()\n",
    "print(np.sort(fish_len))\n",
    "print('최소:', np.percentile(fish_len, 0))\n",
    "print('1사분위(Q1):', np.percentile(fish_len, 25))   # 25\n",
    "print('2사분위(Q2):', np.percentile(fish_len, 50))   \n",
    "print('3사분위(Q3):', np.percentile(fish_len, 75))   \n",
    "print('최대:', np.percentile(fish_len, 100))   \n",
    "\n",
    "plt.figure()\n",
    "plt.boxplot(fish['Length'], labels=['Weight'])\n",
    "plt.grid(True)\n",
    "plt.show()"
   ]
  },
  {
   "cell_type": "code",
   "execution_count": 12,
   "metadata": {},
   "outputs": [
    {
     "name": "stdout",
     "output_type": "stream",
     "text": [
      "660.0\n"
     ]
    }
   ],
   "source": [
    "# IQR (= Inter-Quartile Range) = Q3 (3사분위수) - Q1 (1사분위수)\n",
    "\n",
    "Q1_weight = fish['Weight'].quantile(q=0.25)\n",
    "Q3_weight = fish['Weight'].quantile(q=0.75)\n",
    "\n",
    "IQR_weight = Q3_weight - Q1_weight\n",
    "print(IQR_weight)"
   ]
  },
  {
   "cell_type": "code",
   "execution_count": 13,
   "metadata": {},
   "outputs": [
    {
     "name": "stdout",
     "output_type": "stream",
     "text": [
      "13.0\n"
     ]
    }
   ],
   "source": [
    "Q1_length = fish['Length'].quantile(q=0.25)\n",
    "Q3_length = fish['Length'].quantile(q=0.75)\n",
    "\n",
    "IQR_length = Q3_length - Q1_length\n",
    "print(IQR_length)"
   ]
  },
  {
   "cell_type": "code",
   "execution_count": 14,
   "metadata": {},
   "outputs": [
    {
     "name": "stdout",
     "output_type": "stream",
     "text": [
      "0      242.0\n",
      "1      290.0\n",
      "2      340.0\n",
      "3      363.0\n",
      "4      430.0\n",
      "       ...  \n",
      "85     820.0\n",
      "86    1100.0\n",
      "88    1100.0\n",
      "89    1000.0\n",
      "90    1000.0\n",
      "Name: Weight, Length: 83, dtype: float64\n"
     ]
    },
    {
     "data": {
      "image/png": "[encoded data removed]",
      "text/plain": [
       "<Figure size 432x288 with 1 Axes>"
      ]
     },
     "metadata": {
      "needs_background": "light"
     },
     "output_type": "display_data"
    }
   ],
   "source": [
    "fish_IQR = fish[((fish['Weight'] < Q3_weight + 1.5 * IQR_weight) &\n",
    "                  (fish['Weight'] > Q1_weight - 1.5 * IQR_weight))]\n",
    "\n",
    "print(fish_IQR['Weight'])\n",
    "plt.figure()\n",
    "plt.boxplot(fish_IQR['Weight'], labels=['Weight'])\n",
    "plt.grid(True)\n",
    "plt.show()"
   ]
  },
  {
   "cell_type": "code",
   "execution_count": 15,
   "metadata": {},
   "outputs": [
    {
     "data": {
      "image/png": "[encoded data removed]",
      "text/plain": [
       "<Figure size 432x288 with 1 Axes>"
      ]
     },
     "metadata": {
      "needs_background": "light"
     },
     "output_type": "display_data"
    }
   ],
   "source": [
    "fish_IQR = fish_IQR[((fish_IQR['Length'] < Q3_length + 1.5 * IQR_length) &\n",
    "                 (fish_IQR['Length'] > Q1_length - 1.5 * IQR_length))]\n",
    "\n",
    "plt.figure()\n",
    "plt.boxplot(fish_IQR['Length'], labels=['Length'])\n",
    "plt.grid(True)\n",
    "plt.show()"
   ]
  },
  {
   "cell_type": "code",
   "execution_count": 16,
   "metadata": {},
   "outputs": [
    {
     "data": {
      "image/png": "[encoded data removed]",
      "text/plain": [
       "<Figure size 432x288 with 1 Axes>"
      ]
     },
     "metadata": {
      "needs_background": "light"
     },
     "output_type": "display_data"
    }
   ],
   "source": [
    "plt.figure() # 도화지\n",
    "plt.scatter(fish_IQR['Weight'][fish_IQR['Species']=='Perch'],fish_IQR['Length'][fish_IQR['Species']=='Perch'],label='Perch')\n",
    "plt.scatter(fish_IQR['Weight'][fish_IQR['Species']=='Bream'],fish_IQR['Length'][fish_IQR['Species']=='Bream'],label='Bream')\n",
    "plt.xlabel('Weight')\n",
    "plt.ylabel('Length')\n",
    "plt.legend() # 범례\n",
    "plt.grid(True)\n",
    "plt.show()"
   ]
  },
  {
   "cell_type": "code",
   "execution_count": 17,
   "metadata": {},
   "outputs": [
    {
     "data": {
      "text/plain": [
       "Perch    49\n",
       "Bream    28\n",
       "Name: Species, dtype: int64"
      ]
     },
     "execution_count": 17,
     "metadata": {},
     "output_type": "execute_result"
    }
   ],
   "source": [
    "fish_IQR['Species'].value_counts()  # 기존 데이터에서 이상치값을 가지는 데이터가 빠졌다"
   ]
  },
  {
   "cell_type": "code",
   "execution_count": 18,
   "metadata": {},
   "outputs": [
    {
     "name": "stdout",
     "output_type": "stream",
     "text": [
      "(77, 2)\n",
      "(77,)\n"
     ]
    }
   ],
   "source": [
    "data = fish_IQR[['Weight', 'Length']].to_numpy()\n",
    "target = fish_IQR['Species'].to_numpy()\n",
    "\n",
    "print(data.shape)\n",
    "print(target.shape)"
   ]
  },
  {
   "cell_type": "code",
   "execution_count": 19,
   "metadata": {},
   "outputs": [
    {
     "name": "stdout",
     "output_type": "stream",
     "text": [
      "(57, 2)\n",
      "(20, 2)\n"
     ]
    }
   ],
   "source": [
    "train_input, test_input, train_target, test_target = train_test_split(data, target, random_state=42,\n",
    "                                                                     stratify=target)\n",
    "print(train_input.shape)\n",
    "print(test_input.shape)"
   ]
  },
  {
   "cell_type": "code",
   "execution_count": 20,
   "metadata": {
    "scrolled": true
   },
   "outputs": [
    {
     "name": "stdout",
     "output_type": "stream",
     "text": [
      "이상치 제거된 상태에서 모델의 분류 정확도\n",
      "학습 데이터셋: 0.8245614035087719\n",
      "시험 데이터셋: 0.8\n"
     ]
    }
   ],
   "source": [
    "# Decision Tree\n",
    "dt = DecisionTreeClassifier(max_depth=2)\n",
    "\n",
    "dt.fit(train_input, train_target)\n",
    "\n",
    "# 이상치를 제거하니까 정확도가 올라간 모습!!!\n",
    "print('이상치 제거된 상태에서 모델의 분류 정확도')\n",
    "print('학습 데이터셋:', dt.score(train_input, train_target))\n",
    "print('시험 데이터셋:', dt.score(test_input, test_target))\n"
   ]
  },
  {
   "cell_type": "code",
   "execution_count": null,
   "metadata": {},
   "outputs": [],
   "source": []
  }
 ],
 "metadata": {
  "kernelspec": {
   "display_name": "Python 3",
   "language": "python",
   "name": "python3"
  },
  "language_info": {
   "codemirror_mode": {
    "name": "ipython",
    "version": 3
   },
   "file_extension": ".py",
   "mimetype": "text/x-python",
   "name": "python",
   "nbconvert_exporter": "python",
   "pygments_lexer": "ipython3",
   "version": "3.8.5"
  }
 },
 "nbformat": 4,
 "nbformat_minor": 4
}
